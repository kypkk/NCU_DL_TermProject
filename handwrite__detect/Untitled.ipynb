{
 "cells": [
  {
   "cell_type": "code",
   "execution_count": 3,
   "id": "84920f15",
   "metadata": {},
   "outputs": [],
   "source": [
    "from PIL import Image\n",
    "from os import listdir,walk\n",
    "from os.path import join\n",
    "from keras.models import Sequential\n",
    "from keras.layers import Dense, Dropout\n",
    "from keras.utils import np_utils\n",
    "from keras.models import load_model\n",
    "import matplotlib.pyplot as plt\n",
    "import numpy as np"
   ]
  },
  {
   "cell_type": "code",
   "execution_count": 4,
   "id": "0535cb56",
   "metadata": {},
   "outputs": [
    {
     "ename": "NameError",
     "evalue": "name 'read_data' is not defined",
     "output_type": "error",
     "traceback": [
      "\u001b[0;31m---------------------------------------------------------------------------\u001b[0m",
      "\u001b[0;31mNameError\u001b[0m                                 Traceback (most recent call last)",
      "\u001b[0;32m/var/folders/kp/0ndc__g55gsb1c902fr8k2k40000gn/T/ipykernel_8328/1363317230.py\u001b[0m in \u001b[0;36m<module>\u001b[0;34m\u001b[0m\n\u001b[1;32m      1\u001b[0m \u001b[0;31m# 資料前處理-讀data\u001b[0m\u001b[0;34m\u001b[0m\u001b[0;34m\u001b[0m\u001b[0m\n\u001b[0;32m----> 2\u001b[0;31m \u001b[0mX_train\u001b[0m \u001b[0;34m=\u001b[0m \u001b[0mread_data\u001b[0m\u001b[0;34m(\u001b[0m\u001b[0;36m0\u001b[0m\u001b[0;34m)\u001b[0m \u001b[0;31m#輸入 0 代表取得 training data\u001b[0m\u001b[0;34m\u001b[0m\u001b[0;34m\u001b[0m\u001b[0m\n\u001b[0m\u001b[1;32m      3\u001b[0m \u001b[0mX_test\u001b[0m \u001b[0;34m=\u001b[0m \u001b[0mtead_data\u001b[0m\u001b[0;34m(\u001b[0m\u001b[0;36m1\u001b[0m\u001b[0;34m)\u001b[0m \u001b[0;31m#輸入 1 代表取得 testing data\u001b[0m\u001b[0;34m\u001b[0m\u001b[0;34m\u001b[0m\u001b[0m\n\u001b[1;32m      4\u001b[0m \u001b[0;34m\u001b[0m\u001b[0m\n\u001b[1;32m      5\u001b[0m \u001b[0;31m# 資料前處理-建立label\u001b[0m\u001b[0;34m\u001b[0m\u001b[0;34m\u001b[0m\u001b[0m\n",
      "\u001b[0;31mNameError\u001b[0m: name 'read_data' is not defined"
     ]
    }
   ],
   "source": [
    "# 資料前處理-讀data\n",
    "X_train = read_data(0) #輸入 0 代表取得 training data\n",
    "X_test = tead_data(1) #輸入 1 代表取得 testing data\n",
    "\n",
    "# 資料前處理-建立label\n",
    "Y_train = build_label(49) # numbers of train folders\n",
    "Y_train = np_utils.to_categorical(Y_train, nb_classes)\n",
    "\n",
    "Y_test = build_label(34) # numbers of test folders\n",
    "Y_test = np_utils.to_categorical(Y_test, nb_classes)\n",
    "\n",
    "# 資料前處理-打亂資料\n",
    "new_X_train, new_Y_train = shuffle(X_train, Y_train)\n",
    "new_X_test, new_Y_test = shuffle(X_test, Y_test)"
   ]
  },
  {
   "cell_type": "code",
   "execution_count": null,
   "id": "a5a1c13a",
   "metadata": {},
   "outputs": [],
   "source": [
    "model = Sequential() # 順序式模型\n",
    "\n",
    "model.add(Dense(units = 512, input_dim = 784, activation = 'relu')) # 建立全聯階層\n",
    "\n",
    "model.add(Dense(units = 256, activation = 'relu')) # 建立全聯階層\n",
    "\n",
    "model.add(Dense(units = 128, activation = 'relu')) # 建立全聯階層\n",
    "\n",
    "model.add(Dense(10, activation = 'softmax')) # actication function: softmax"
   ]
  },
  {
   "cell_type": "code",
   "execution_count": null,
   "id": "6495fcb9",
   "metadata": {},
   "outputs": [],
   "source": [
    "# 查看模型摘要\n",
    "model.summary()"
   ]
  },
  {
   "cell_type": "code",
   "execution_count": null,
   "id": "3a48ced7",
   "metadata": {},
   "outputs": [],
   "source": [
    "# 對訓練模型進行設定\n",
    "model.compile(loss = 'categorical_crossentropy', optimizer = 'Adam', metrics = ['accuracy'])\n",
    "\n",
    "# 進行訓練\n",
    "history = model.fit(new_X_train, new_Y_train, validation_split = 0.1, batch_size = batch_size, nb_epoch = nb_epoch, verbose = 1)\n",
    "\n",
    "# 進行評估模型準確率\n",
    "score = evaluate(new_X_test, new_Y_test, verbose = 1)\n",
    "print(f\"Test Accuracy: {score[1]}\")\n",
    "\n",
    "# 畫圖顯示預測結果\n",
    "pre_result()\n",
    "\n",
    "# 畫圖顯示訓練過程\n",
    "show_train_history(history, 'loss', 'val_loss'2)"
   ]
  }
 ],
 "metadata": {
  "kernelspec": {
   "display_name": "Python 3.9 (tensorflow)",
   "language": "python",
   "name": "tensorflow"
  },
  "language_info": {
   "codemirror_mode": {
    "name": "ipython",
    "version": 3
   },
   "file_extension": ".py",
   "mimetype": "text/x-python",
   "name": "python",
   "nbconvert_exporter": "python",
   "pygments_lexer": "ipython3",
   "version": "3.9.7"
  }
 },
 "nbformat": 4,
 "nbformat_minor": 5
}
