{
 "cells": [
  {
   "cell_type": "markdown",
   "id": "2a12be64",
   "metadata": {},
   "source": [
    "# 1. 讀入封包"
   ]
  },
  {
   "cell_type": "code",
   "execution_count": 93,
   "id": "a494034c",
   "metadata": {},
   "outputs": [],
   "source": [
    "import tensorflow as tf\n",
    "from tensorflow import keras\n",
    "from keras.models import Sequential\n",
    "from tensorflow.keras import layers\n",
    "from tensorflow.keras.optimizers import SGD, Adam\n",
    "from keras.layers import Conv2D, MaxPooling2D, Flatten, Dense, Activation, Dropout, BatchNormalization\n",
    "from datetime import datetime\n",
    "import os\n",
    "import pylab as plt\n",
    "import numpy as np"
   ]
  },
  {
   "cell_type": "markdown",
   "id": "58db309d",
   "metadata": {},
   "source": [
    "# 2. 資料前處理"
   ]
  },
  {
   "cell_type": "code",
   "execution_count": 94,
   "id": "aace872b",
   "metadata": {},
   "outputs": [],
   "source": [
    "# the dir of train & test datas\n",
    "train_dir = \"train_image\"\n",
    "test_dir = \"test_image\"\n",
    "\n",
    "# return the paths & labels foreach picture in dir \n",
    "def make_paths_label(dir):\n",
    "    img_paths = []\n",
    "    img_label = []\n",
    "    \n",
    "    for root_dir in os.listdir(os.path.join('handwrite__detect', dir)):\n",
    "        if root_dir[0] != '.':\n",
    "            for num in os.listdir(os.path.join('handwrite__detect', dir, root_dir)):\n",
    "                if num[0] != '.':\n",
    "                    for item in os.listdir(os.path.join('handwrite__detect', dir, root_dir, num)):\n",
    "                        if item[0] != '.':\n",
    "                            img_paths.append(os.path.join('handwrite__detect', dir, root_dir, num, item))\n",
    "                            img_label.append(num)\n",
    "    \n",
    "    img = []\n",
    "    for i in img_paths:\n",
    "        img.append(plt.imread(i))\n",
    "    img = np.array(img)\n",
    "    img = img[:, :, :, 0]\n",
    "    img = np.expand_dims(img, axis=3)\n",
    "    img = img.astype('float32')\n",
    "    img /= 255\n",
    " \n",
    "    img_label = np.array(img_label)\n",
    "    img_label = tf.keras.utils.to_categorical(img_label)\n",
    " \n",
    "    rnd = np.random.permutation(img_label.shape[0])\n",
    "    img = img[rnd, :]\n",
    "    img_label = img_label[rnd]\n",
    " \n",
    " \n",
    "    return img, img_label"
   ]
  },
  {
   "cell_type": "code",
   "execution_count": 95,
   "id": "9f66274a",
   "metadata": {},
   "outputs": [],
   "source": [
    "# 圖片Tensor 與 label Tensor Zip起來成一個pair\n",
    "# shuffle打散\n",
    "def make_dataset(dir):\n",
    "  images, labels = make_paths_label(dir)\n",
    "  train_image = tf.data.Dataset.from_tensor_slices(images)\n",
    "  train_label = tf.data.Dataset.from_tensor_slices(labels)\n",
    "  # 將路徑tensor映射成圖片tensor \n",
    "  # 合併圖片與label資料集\n",
    "  full_ds = tf.data.Dataset.zip((train_image,train_label))\n",
    "  # 打散\n",
    "  full_ds = full_ds.shuffle(shuffle_buffer,reshuffle_each_iteration=False)\n",
    "  return full_ds, len(images)\n",
    "\n",
    "# get train_ds\n",
    "full_ds, Sub_len = make_dataset(train_dir)\n",
    "test_ds, test_len = make_dataset(test_dir)"
   ]
  },
  {
   "cell_type": "code",
   "execution_count": 159,
   "id": "7e3e61c7",
   "metadata": {},
   "outputs": [],
   "source": [
    "\n",
    "\n",
    "# 添加batch\n",
    "# todo\n",
    "batch_size = 32\n",
    "\n",
    "full_ds = full_ds.batch(batch_size)\n"
   ]
  },
  {
   "cell_type": "code",
   "execution_count": 160,
   "id": "64298294",
   "metadata": {},
   "outputs": [
    {
     "name": "stdout",
     "output_type": "stream",
     "text": [
      "Model: \"numberRecognition\"\n",
      "_________________________________________________________________\n",
      " Layer (type)                Output Shape              Param #   \n",
      "=================================================================\n",
      " Conv2D_32Filters (Conv2D)   (None, 24, 24, 32)        832       \n",
      "                                                                 \n",
      " First_Pooling (MaxPooling2D  (None, 12, 12, 32)       0         \n",
      " )                                                               \n",
      "                                                                 \n",
      " Conv2D_64Filters (Conv2D)   (None, 10, 10, 64)        18496     \n",
      "                                                                 \n",
      " Second_Pooling (MaxPooling2  (None, 5, 5, 64)         0         \n",
      " D)                                                              \n",
      "                                                                 \n",
      " Flatten_Layer (Flatten)     (None, 1600)              0         \n",
      "                                                                 \n",
      " FullyConnected (Dense)      (None, 512)               819712    \n",
      "                                                                 \n",
      " Drop (Dropout)              (None, 512)               0         \n",
      "                                                                 \n",
      " Number (Dense)              (None, 10)                5130      \n",
      "                                                                 \n",
      "=================================================================\n",
      "Total params: 844,170\n",
      "Trainable params: 844,170\n",
      "Non-trainable params: 0\n",
      "_________________________________________________________________\n"
     ]
    }
   ],
   "source": [
    "input_shape = (28, 28, 1)\n",
    "\n",
    "# 自訂你的model\n",
    "model = keras.Sequential(\n",
    "    [\n",
    "        keras.Input(shape=input_shape),\n",
    "        layers.Conv2D(32, kernel_size=(5, 5), activation=\"relu\", name=\"Conv2D_32Filters\"),\n",
    "        layers.MaxPooling2D(pool_size=(2, 2), name=\"First_Pooling\"),\n",
    "        layers.Conv2D(64, kernel_size=(3, 3), strides=(1, 1), activation=\"relu\", name=\"Conv2D_64Filters\"),\n",
    "        layers.MaxPooling2D(pool_size=(2, 2), name=\"Second_Pooling\"),\n",
    "        layers.Flatten(name=\"Flatten_Layer\"),\n",
    "        layers.Dense(512, activation=\"relu\",  name=\"FullyConnected\"),\n",
    "        layers.Dropout(0.5,  name=\"Drop\"),\n",
    "        layers.Dense(10, activation=\"softmax\", name=\"Number\"),\n",
    "    ]\n",
    ")\n",
    "model._name = \"numberRecognition\"\n",
    "model.summary()"
   ]
  },
  {
   "cell_type": "code",
   "execution_count": null,
   "id": "7fce5ff3",
   "metadata": {},
   "outputs": [
    {
     "name": "stdout",
     "output_type": "stream",
     "text": [
      "Epoch 1/90\n",
      "77/77 [==============================] - 1s 12ms/step - loss: 0.8363 - accuracy: 0.7294\n",
      "Epoch 2/90\n",
      "77/77 [==============================] - 1s 12ms/step - loss: 0.1572 - accuracy: 0.9539\n",
      "Epoch 3/90\n",
      "77/77 [==============================] - 1s 12ms/step - loss: 0.0928 - accuracy: 0.9702\n",
      "Epoch 4/90\n",
      "77/77 [==============================] - 1s 11ms/step - loss: 0.0530 - accuracy: 0.9865\n",
      "Epoch 5/90\n",
      "75/77 [============================>.] - ETA: 0s - loss: 0.0495 - accuracy: 0.9850"
     ]
    }
   ],
   "source": [
    "epochs = 90\n",
    "\n",
    "\n",
    "# model.compile 決定learning strategy、Loss caculator\n",
    "model.compile(loss=\"categorical_crossentropy\", optimizer=\"adam\", metrics=[\"accuracy\"])\n",
    "\n",
    "train_history = model.fit(full_ds,epochs=epochs)"
   ]
  },
  {
   "cell_type": "code",
   "execution_count": 154,
   "id": "36c85935",
   "metadata": {},
   "outputs": [
    {
     "name": "stdout",
     "output_type": "stream",
     "text": [
      "dict_keys(['loss', 'accuracy', 'val_loss', 'val_accuracy'])\n"
     ]
    },
    {
     "data": {
      "image/png": "[encoded data removed]",
      "text/plain": [
       "<Figure size 432x288 with 1 Axes>"
      ]
     },
     "metadata": {
      "needs_background": "light"
     },
     "output_type": "display_data"
    }
   ],
   "source": [
    "print(train_history.history.keys())\n",
    "\n",
    "plt.plot(train_history.history['accuracy'])\n",
    "plt.plot(train_history.history['val_accuracy'])\n",
    "plt.title('model accuracy')\n",
    "plt.ylabel('accuracy')\n",
    "plt.xlabel('epoch')\n",
    "plt.show()"
   ]
  },
  {
   "cell_type": "code",
   "execution_count": 155,
   "id": "308cdd35",
   "metadata": {},
   "outputs": [
    {
     "data": {
      "image/png": "[encoded data removed]",
      "text/plain": [
       "<Figure size 432x288 with 1 Axes>"
      ]
     },
     "metadata": {
      "needs_background": "light"
     },
     "output_type": "display_data"
    }
   ],
   "source": [
    "plt.plot(train_history.history['loss'])\n",
    "plt.plot(train_history.history['val_loss'])\n",
    "plt.title('model loss')\n",
    "plt.ylabel('loss')\n",
    "plt.xlabel('epoch')\n",
    "\n",
    "plt.show()"
   ]
  },
  {
   "cell_type": "code",
   "execution_count": 156,
   "id": "73b6d351",
   "metadata": {},
   "outputs": [
    {
     "name": "stdout",
     "output_type": "stream",
     "text": [
      "54/54 [==============================] - 0s 5ms/step - loss: 0.2066 - accuracy: 0.9559\n",
      "Test loss: 0.20659230649471283\n",
      "Test accuracy: 0.9558823704719543\n"
     ]
    }
   ],
   "source": [
    "# 讀入測試資料並評估模型\n",
    "test_ds, test_len = make_dataset(test_dir)\n",
    "test_ds = test_ds.batch(batch_size)\n",
    "score = model.evaluate(test_ds)\n",
    "print(\"Test loss:\", score[0])\n",
    "print(\"Test accuracy:\", score[1])"
   ]
  },
  {
   "cell_type": "code",
   "execution_count": null,
   "id": "ae4991cc",
   "metadata": {},
   "outputs": [],
   "source": []
  }
 ],
 "metadata": {
  "kernelspec": {
   "display_name": "Python 3 (ipykernel)",
   "language": "python",
   "name": "python3"
  },
  "language_info": {
   "codemirror_mode": {
    "name": "ipython",
    "version": 3
   },
   "file_extension": ".py",
   "mimetype": "text/x-python",
   "name": "python",
   "nbconvert_exporter": "python",
   "pygments_lexer": "ipython3",
   "version": "3.9.7"
  }
 },
 "nbformat": 4,
 "nbformat_minor": 5
}
