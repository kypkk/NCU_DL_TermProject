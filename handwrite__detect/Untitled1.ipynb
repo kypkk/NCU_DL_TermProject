{
 "cells": [
  {
   "cell_type": "code",
   "execution_count": null,
   "id": "4faef6dc",
   "metadata": {},
   "outputs": [],
   "source": [
    "from PIL import Image\n",
    "from os import listdir,walk\n",
    "from os.path import join\n",
    "\n",
    "DATA_dir = \"users/kangkang/downloads/train_image/104602513\"\n",
    "numbers = [0,1,2,3,4,5,6,7,8,9]\n",
    "for i in numbers:\n",
    "    path = os.path.join(DATA_dir, i)\n",
    "    for img in os.listdir(path):\n",
    "        \n",
    "\n"
   ]
  }
 ],
 "metadata": {
  "kernelspec": {
   "display_name": "Python 3 (ipykernel)",
   "language": "python",
   "name": "python3"
  },
  "language_info": {
   "codemirror_mode": {
    "name": "ipython",
    "version": 3
   },
   "file_extension": ".py",
   "mimetype": "text/x-python",
   "name": "python",
   "nbconvert_exporter": "python",
   "pygments_lexer": "ipython3",
   "version": "3.9.7"
  }
 },
 "nbformat": 4,
 "nbformat_minor": 5
}
